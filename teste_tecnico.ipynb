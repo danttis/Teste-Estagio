{
 "cells": [
  {
   "cell_type": "markdown",
   "metadata": {},
   "source": [
    "# Teste Técnico"
   ]
  },
  {
   "cell_type": "markdown",
   "metadata": {},
   "source": [
    "### 1) Observe o trecho de código abaixo: \n",
    "int INDICE = 13, SOMA = 0, K = 0; <br>\n",
    "Enquanto K < INDICE faça { K = K + 1; SOMA = SOMA + K; } <br>\n",
    "Imprimir(SOMA); <br>\n",
    "\n",
    "Ao final do processamento, qual será o valor da variável SOMA? <br>\n",
    "Resposta:\n",
    "O valor será 91"
   ]
  },
  {
   "cell_type": "code",
   "execution_count": 1,
   "metadata": {},
   "outputs": [
    {
     "name": "stdout",
     "output_type": "stream",
     "text": [
      "91\n"
     ]
    }
   ],
   "source": [
    "# Solução em python\n",
    "INDICE, SOMA , K = 13, 0, 0\n",
    "while K < INDICE:\n",
    "    K = K + 1\n",
    "    SOMA = SOMA + K\n",
    "print(SOMA)\n"
   ]
  },
  {
   "cell_type": "markdown",
   "metadata": {},
   "source": [
    "### 2) Dado a sequência de Fibonacci, onde se inicia por 0 e 1 e o próximo valor sempre será a soma dos 2 valores anteriores (exemplo: 0, 1, 1, 2, 3, 5, 8, 13, 21, 34...), escreva um programa na linguagem que desejar onde, informado um número, ele calcule a sequência de Fibonacci e retorne uma mensagem avisando se o número informado pertence ou não a sequência."
   ]
  },
  {
   "cell_type": "code",
   "execution_count": 2,
   "metadata": {},
   "outputs": [
    {
     "name": "stdout",
     "output_type": "stream",
     "text": [
      "O número 35 não pertence sequêcia de Fibonacci!\n"
     ]
    }
   ],
   "source": [
    "# Solução em python\n",
    "def is_fib(numero):\n",
    "    \"\"\"Esta função recebe um número e avisa se o mesmo pertence a sequência de Fibonacci.\n",
    "\n",
    "    Parametros:\n",
    "        numero (int):\n",
    "            Recebe o número que deseja verificar se pertence a sequência de Fibonnaci.\n",
    "    Return:\n",
    "        A função não retorna nenhum valor, apenas mostra mensagens se o número pertence ou não a sequência.\n",
    "    \"\"\"\n",
    "    # inicia a sequêcia com 0 e 1\n",
    "    fib = [0,1]\n",
    "    while fib[-1] < numero:\n",
    "        novo_valor = fib[-1] + fib[-2] # somando o número com seu antecessor, ou seja o número n = (n-1) + (n-2)\n",
    "        fib.append(novo_valor) # adicionando o número sempre no fim da lista\n",
    "    if fib[-1] == numero: # como o laço para com o número for maior ou igual a variavél número, conferir apenas o último valor da lista economiza memória\n",
    "        print(f'O número {numero} pertence a sequêcia de Fibonacci!')\n",
    "    else:\n",
    "        print(f'O número {numero} não pertence sequêcia de Fibonacci!')\n",
    "\n",
    "numero = int(input(\"Digite o número que deseja verificar se está na sequência de Fibonacci\"))\n",
    "is_fib(numero)"
   ]
  },
  {
   "cell_type": "markdown",
   "metadata": {},
   "source": [
    "### 3) Dado um vetor que guarda o valor de faturamento diário de uma distribuidora, faça um programa, na linguagem que desejar, que calcule e retorne:\n",
    "- O menor valor de faturamento ocorrido em um dia do mês;\n",
    "- O maior valor de faturamento ocorrido em um dia do mês;\n",
    "- Número de dias no mês em que o valor de faturamento diário foi superior à média mensal.\n",
    "\n",
    "IMPORTANTE:\n",
    "- a) Usar o json ou xml disponível como fonte dos dados do faturamento mensal;\n",
    "- b) Podem existir dias sem faturamento, como nos finais de semana e feriados. Estes dias devem ser ignorados no cálculo da média;"
   ]
  },
  {
   "cell_type": "code",
   "execution_count": 3,
   "metadata": {},
   "outputs": [],
   "source": [
    "# Observação: Esse arquivo não foi encontrado no teste, então foi gerada um para continuação do teste.\n",
    "faturamento = \"\"\"{\n",
    "  \"faturamento_diario\": [\n",
    "    {\"data\": \"2024-08-01\", \"valor\": 15000.00},\n",
    "    {\"data\": \"2024-08-02\", \"valor\": 12000.00},\n",
    "    {\"data\": \"2024-08-03\", \"valor\": null},\n",
    "    {\"data\": \"2024-08-04\", \"valor\": null},\n",
    "    {\"data\": \"2024-08-05\", \"valor\": 18000.00},\n",
    "    {\"data\": \"2024-08-06\", \"valor\": 22000.00},\n",
    "    {\"data\": \"2024-08-07\", \"valor\": 20000.00},\n",
    "    {\"data\": \"2024-08-08\", \"valor\": 17000.00},\n",
    "    {\"data\": \"2024-08-09\", \"valor\": 19000.00},\n",
    "    {\"data\": \"2024-08-10\", \"valor\": null},\n",
    "    {\"data\": \"2024-08-11\", \"valor\": null},\n",
    "    {\"data\": \"2024-08-12\", \"valor\": 21000.00},\n",
    "    {\"data\": \"2024-08-13\", \"valor\": 23000.00},\n",
    "    {\"data\": \"2024-08-14\", \"valor\": 24000.00},\n",
    "    {\"data\": \"2024-08-15\", \"valor\": 25000.00},\n",
    "    {\"data\": \"2024-08-16\", \"valor\": 26000.00},\n",
    "    {\"data\": \"2024-08-17\", \"valor\": null},\n",
    "    {\"data\": \"2024-08-18\", \"valor\": null},\n",
    "    {\"data\": \"2024-08-19\", \"valor\": 27000.00},\n",
    "    {\"data\": \"2024-08-20\", \"valor\": 28000.00},\n",
    "    {\"data\": \"2024-08-21\", \"valor\": 29000.00},\n",
    "    {\"data\": \"2024-08-22\", \"valor\": 30000.00},\n",
    "    {\"data\": \"2024-08-23\", \"valor\": 31000.00},\n",
    "    {\"data\": \"2024-08-24\", \"valor\": null},\n",
    "    {\"data\": \"2024-08-25\", \"valor\": null},\n",
    "    {\"data\": \"2024-08-26\", \"valor\": 32000.00},\n",
    "    {\"data\": \"2024-08-27\", \"valor\": 33000.00},\n",
    "    {\"data\": \"2024-08-28\", \"valor\": 34000.00},\n",
    "    {\"data\": \"2024-08-29\", \"valor\": 35000.00},\n",
    "    {\"data\": \"2024-08-30\", \"valor\": 36000.00},\n",
    "    {\"data\": \"2024-08-31\", \"valor\": 37000.00},\n",
    "    \n",
    "    {\"data\": \"2024-09-01\", \"valor\": 38000.00},\n",
    "    {\"data\": \"2024-09-02\", \"valor\": 39000.00},\n",
    "    {\"data\": \"2024-09-03\", \"valor\": 40000.00},\n",
    "    {\"data\": \"2024-09-04\", \"valor\": 41000.00},\n",
    "    {\"data\": \"2024-09-05\", \"valor\": 42000.00},\n",
    "    {\"data\": \"2024-09-06\", \"valor\": 43000.00},\n",
    "    {\"data\": \"2024-09-07\", \"valor\": null},\n",
    "    {\"data\": \"2024-09-08\", \"valor\": null},\n",
    "    {\"data\": \"2024-09-09\", \"valor\": 44000.00},\n",
    "    {\"data\": \"2024-09-10\", \"valor\": 45000.00},\n",
    "    {\"data\": \"2024-09-11\", \"valor\": 46000.00},\n",
    "    {\"data\": \"2024-09-12\", \"valor\": 47000.00},\n",
    "    {\"data\": \"2024-09-13\", \"valor\": 48000.00},\n",
    "    {\"data\": \"2024-09-14\", \"valor\": null},\n",
    "    {\"data\": \"2024-09-15\", \"valor\": null},\n",
    "    {\"data\": \"2024-09-16\", \"valor\": 49000.00},\n",
    "    {\"data\": \"2024-09-17\", \"valor\": 50000.00},\n",
    "    {\"data\": \"2024-09-18\", \"valor\": 51000.00},\n",
    "    {\"data\": \"2024-09-19\", \"valor\": 52000.00},\n",
    "    {\"data\": \"2024-09-20\", \"valor\": 53000.00},\n",
    "    {\"data\": \"2024-09-21\", \"valor\": null},\n",
    "    {\"data\": \"2024-09-22\", \"valor\": null},\n",
    "    {\"data\": \"2024-09-23\", \"valor\": 54000.00},\n",
    "    {\"data\": \"2024-09-24\", \"valor\": 55000.00},\n",
    "    {\"data\": \"2024-09-25\", \"valor\": 56000.00},\n",
    "    {\"data\": \"2024-09-26\", \"valor\": 57000.00},\n",
    "    {\"data\": \"2024-09-27\", \"valor\": 58000.00},\n",
    "    {\"data\": \"2024-09-28\", \"valor\": null},\n",
    "    {\"data\": \"2024-09-29\", \"valor\": null},\n",
    "    {\"data\": \"2024-09-30\", \"valor\": 59000.00},\n",
    "\n",
    "    {\"data\": \"2024-10-01\", \"valor\": 60000.00},\n",
    "    {\"data\": \"2024-10-02\", \"valor\": 61000.00},\n",
    "    {\"data\": \"2024-10-03\", \"valor\": 62000.00},\n",
    "    {\"data\": \"2024-10-04\", \"valor\": 63000.00},\n",
    "    {\"data\": \"2024-10-05\", \"valor\": null},\n",
    "    {\"data\": \"2024-10-06\", \"valor\": null},\n",
    "    {\"data\": \"2024-10-07\", \"valor\": 64000.00},\n",
    "    {\"data\": \"2024-10-08\", \"valor\": 65000.00},\n",
    "    {\"data\": \"2024-10-09\", \"valor\": 66000.00},\n",
    "    {\"data\": \"2024-10-10\", \"valor\": 67000.00},\n",
    "    {\"data\": \"2024-10-11\", \"valor\": 68000.00},\n",
    "    {\"data\": \"2024-10-12\", \"valor\": null},\n",
    "    {\"data\": \"2024-10-13\", \"valor\": null},\n",
    "    {\"data\": \"2024-10-14\", \"valor\": 69000.00},\n",
    "    {\"data\": \"2024-10-15\", \"valor\": 70000.00},\n",
    "    {\"data\": \"2024-10-16\", \"valor\": 71000.00},\n",
    "    {\"data\": \"2024-10-17\", \"valor\": 72000.00},\n",
    "    {\"data\": \"2024-10-18\", \"valor\": 73000.00},\n",
    "    {\"data\": \"2024-10-19\", \"valor\": 74000.00},\n",
    "    {\"data\": \"2024-10-20\", \"valor\": null},\n",
    "    {\"data\": \"2024-10-21\", \"valor\": null},\n",
    "    {\"data\": \"2024-10-22\", \"valor\": 75000.00},\n",
    "    {\"data\": \"2024-10-23\", \"valor\": 76000.00},\n",
    "    {\"data\": \"2024-10-24\", \"valor\": 77000.00},\n",
    "    {\"data\": \"2024-10-25\", \"valor\": 78000.00},\n",
    "    {\"data\": \"2024-10-26\", \"valor\": null},\n",
    "    {\"data\": \"2024-10-27\", \"valor\": null},\n",
    "    {\"data\": \"2024-10-28\", \"valor\": 79000.00},\n",
    "    {\"data\": \"2024-10-29\", \"valor\": 80000.00},\n",
    "    {\"data\": \"2024-10-30\", \"valor\": 81000.00},\n",
    "    {\"data\": \"2024-10-31\", \"valor\": 82000.00}\n",
    "  ]\n",
    "}\n",
    "\"\"\"\n",
    "\n",
    "# pacote para ler arquivo no formato json\n",
    "import json\n",
    "import numpy as np\n",
    "\n",
    "faturamento = json.loads(faturamento)"
   ]
  },
  {
   "cell_type": "markdown",
   "metadata": {},
   "source": [
    "#### O menor valor de faturamento ocorrido em um dia do mês;"
   ]
  },
  {
   "cell_type": "code",
   "execution_count": 4,
   "metadata": {},
   "outputs": [
    {
     "name": "stdout",
     "output_type": "stream",
     "text": [
      "O dia 02 foi o dia que menos faturou no mês 08, com faturamento de apenas: 12000.0\n"
     ]
    }
   ],
   "source": [
    "# Escolha do mês: 08\n",
    "mes = '08'\n",
    "# menor faturamento\n",
    "minimo = {'data': f'2024-{mes}-01', 'valor': np.inf} # garantindo que o valor sempre seja o maior possivél \n",
    "for i in range(len(faturamento['faturamento_diario'])):\n",
    "     if faturamento['faturamento_diario'][i]['data'].split('-')[1] == mes:\n",
    "        if faturamento['faturamento_diario'][i]['valor'] is not None:\n",
    "            if minimo['valor'] > faturamento['faturamento_diario'][i]['valor']:\n",
    "                minimo = faturamento['faturamento_diario'][i]\n",
    "        \n",
    "print(f\"O dia {minimo['data'].split('-')[2]} foi o dia que menos faturou no mês {minimo['data'].split('-')[1]}, com faturamento de apenas: {minimo['valor']}\")"
   ]
  },
  {
   "cell_type": "markdown",
   "metadata": {},
   "source": [
    "#### O maior valor de faturamento ocorrido em um dia do mês;"
   ]
  },
  {
   "cell_type": "code",
   "execution_count": 5,
   "metadata": {},
   "outputs": [
    {
     "name": "stdout",
     "output_type": "stream",
     "text": [
      "O dia 31 foi o dia que menos faturou no mês 08, com faturamento de apenas: 37000.0\n"
     ]
    }
   ],
   "source": [
    "# maior faturamento\n",
    "maximo = {'data': f'2024-{mes}-01', 'valor': -np.inf} # garantindo que o valor sempre seja o menor possivél \n",
    "for i in range(len(faturamento['faturamento_diario'])):\n",
    "     if faturamento['faturamento_diario'][i]['data'].split('-')[1] == mes:\n",
    "        if faturamento['faturamento_diario'][i]['valor'] is not None:\n",
    "            if maximo['valor'] < faturamento['faturamento_diario'][i]['valor']:\n",
    "                maximo = faturamento['faturamento_diario'][i]\n",
    "        \n",
    "print(f\"O dia {maximo['data'].split('-')[2]} foi o dia que menos faturou no mês {maximo['data'].split('-')[1]}, com faturamento de apenas: {maximo['valor']}\")"
   ]
  },
  {
   "cell_type": "markdown",
   "metadata": {},
   "source": [
    "#### Número de dias no mês em que o valor de faturamento diário foi superior à média mensal."
   ]
  },
  {
   "cell_type": "code",
   "execution_count": 6,
   "metadata": {},
   "outputs": [
    {
     "name": "stdout",
     "output_type": "stream",
     "text": [
      "A quantidade de dias com faturamento abaixo da média no mês 08 foram 11\n"
     ]
    }
   ],
   "source": [
    "# calculando a média\n",
    "media = 0\n",
    "dias = 0\n",
    "for i in range(len(faturamento['faturamento_diario'])):\n",
    "     if faturamento['faturamento_diario'][i]['data'].split('-')[1] == mes:\n",
    "          if faturamento['faturamento_diario'][i]['valor'] is not None:\n",
    "               media = media + faturamento['faturamento_diario'][i]['valor']\n",
    "               dias = dias + 1\n",
    "          \n",
    "media = media/dias\n",
    "\n",
    "dias_faturamento_baixo = 0\n",
    "for i in range(len(faturamento['faturamento_diario'])):\n",
    "     if faturamento['faturamento_diario'][i]['data'].split('-')[1] == mes:\n",
    "          if faturamento['faturamento_diario'][i]['valor'] is not None:\n",
    "               if faturamento['faturamento_diario'][i]['valor'] < media:\n",
    "                    dias_faturamento_baixo = dias_faturamento_baixo + 1 \n",
    "                    \n",
    "print(f\"A quantidade de dias com faturamento abaixo da média no mês {mes} foram {dias_faturamento_baixo}\")"
   ]
  },
  {
   "cell_type": "markdown",
   "metadata": {},
   "source": [
    "### 4) Dado o valor de faturamento mensal de uma distribuidora, detalhado por estado:\n",
    "- SP – R$67.836,43\n",
    "- RJ – R$36.678,66\n",
    "- MG – R$29.229,88\n",
    "- ES – R$27.165,48\n",
    "- Outros – R$19.849,53\n",
    "\n",
    "Escreva um programa na linguagem que desejar onde calcule o percentual de representação que cada estado teve dentro do valor total mensal da distribuidora. "
   ]
  },
  {
   "cell_type": "code",
   "execution_count": 7,
   "metadata": {},
   "outputs": [],
   "source": [
    "data = \"\"\"\n",
    "    SP – R$67.836,43\n",
    "    RJ – R$36.678,66\n",
    "    MG – R$29.229,88\n",
    "    ES – R$27.165,48\n",
    "    Outros – R$19.849,53\n",
    "\"\"\""
   ]
  },
  {
   "cell_type": "code",
   "execution_count": 8,
   "metadata": {},
   "outputs": [],
   "source": [
    "# pacote para ler o conjuto de dados\n",
    "import pandas as pd\n",
    "from io import StringIO\n",
    "\n",
    "data_io = StringIO(data)\n",
    "\n",
    "# lendo o DataFrame\n",
    "df = pd.read_csv(data_io, delimiter='–', engine='python', names=['Estado', 'Valor'])\n",
    "\n",
    "# trantando os valores para transforma-los em numéricos\n",
    "df['Valor'] = df['Valor'].str.replace('R$', '').str.replace('.', '').str.replace(',', '.').astype(float)\n",
    "\n",
    "# soma dos valores totais\n",
    "total = df['Valor'].sum()\n",
    "\n",
    "percentual = [round((i/total) * 100, 2)for i in df['Valor']]\n",
    "\n",
    "df['Percentual'] = percentual"
   ]
  },
  {
   "cell_type": "code",
   "execution_count": 9,
   "metadata": {},
   "outputs": [
    {
     "data": {
      "image/png": "[encoded data removed]",
      "text/plain": [
       "<Figure size 640x480 with 1 Axes>"
      ]
     },
     "metadata": {},
     "output_type": "display_data"
    }
   ],
   "source": [
    "# pacote para gráfico\n",
    "import matplotlib.pyplot as plt\n",
    "\n",
    "fig, ax = plt.subplots() \n",
    "\n",
    "# criando gráfico de barras\n",
    "bars = ax.bar(df['Estado'], df['Valor'], color='skyblue')\n",
    "\n",
    "# adicionando percentual\n",
    "for bar, percentual in zip(bars, df['Percentual']):\n",
    "    height = bar.get_height()\n",
    "    ax.text(bar.get_x() + bar.get_width() / 2, height, f'{height}\\n({percentual}%)',\n",
    "            ha='center', va='bottom', fontsize=10, color='black')\n",
    "\n",
    "# adicionar título e rótulos aos eixos\n",
    "ax.set_title('Valores e Percentuais por Estado')\n",
    "ax.set_xlabel('Estado')\n",
    "ax.set_ylabel('Valor')\n",
    "\n",
    "plt.show()"
   ]
  },
  {
   "cell_type": "markdown",
   "metadata": {},
   "source": [
    "# 5) Escreva um programa que inverta os caracteres de um string.\n",
    "\n",
    "IMPORTANTE:\n",
    "- a) Essa string pode ser informada através de qualquer entrada de sua preferência ou pode ser previamente definida no código;\n",
    "- b) Evite usar funções prontas, como, por exemplo, reverse;\n"
   ]
  },
  {
   "cell_type": "code",
   "execution_count": 10,
   "metadata": {},
   "outputs": [
    {
     "name": "stdout",
     "output_type": "stream",
     "text": [
      "A String 'cadeira', sua forma invertida 'ariedac.'\n"
     ]
    }
   ],
   "source": [
    "# solução em python\n",
    "string = str(input(\"Digite a palavra que deseja inverter\"))\n",
    "\n",
    "string_invertida = \"\"\n",
    "for i in range(len(string) - 1, -1, -1):\n",
    "    string_invertida = string_invertida + string[i]\n",
    "\n",
    "print(f\"A String '{string}', sua forma invertida '{string_invertida}.'\")"
   ]
  }
 ],
 "metadata": {
  "kernelspec": {
   "display_name": "Python 3",
   "language": "python",
   "name": "python3"
  },
  "language_info": {
   "codemirror_mode": {
    "name": "ipython",
    "version": 3
   },
   "file_extension": ".py",
   "mimetype": "text/x-python",
   "name": "python",
   "nbconvert_exporter": "python",
   "pygments_lexer": "ipython3",
   "version": "3.11.4"
  }
 },
 "nbformat": 4,
 "nbformat_minor": 2
}
